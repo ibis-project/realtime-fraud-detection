{
 "cells": [
  {
   "cell_type": "code",
   "execution_count": null,
   "metadata": {},
   "outputs": [],
   "source": [
    "from confluent_kafka import Consumer\n",
    "\n",
    "conf = {\"bootstrap.servers\": \"localhost: 9092\", \"group.id\": \"mygroup\", \"auto.offset.reset\": \"earliest\"}\n",
    "consumer = Consumer(conf)\n",
    "consumer.subscribe([\"payment_msg\"])\n",
    "rows = []\n",
    "for msg in consumer.consume(100):\n",
    "    rows.append(msg.value().decode(\"utf-8\"))"
   ]
  },
  {
   "cell_type": "markdown",
   "metadata": {},
   "source": [
    "## Local execution on DuckDB"
   ]
  },
  {
   "cell_type": "code",
   "execution_count": null,
   "metadata": {},
   "outputs": [],
   "source": [
    "import json\n",
    "\n",
    "import pandas as pd\n",
    "\n",
    "df = pd.DataFrame([json.loads(row) for row in rows])\n",
    "df[\"createTime\"] = pd.to_datetime(df[\"createTime\"])\n",
    "df"
   ]
  },
  {
   "cell_type": "code",
   "execution_count": null,
   "metadata": {},
   "outputs": [],
   "source": [
    "import ibis\n",
    "\n",
    "con = ibis.get_backend()\n",
    "t = con.create_table(\"payments\", df)\n",
    "t"
   ]
  },
  {
   "cell_type": "code",
   "execution_count": null,
   "metadata": {},
   "outputs": [],
   "source": [
    "t.schema()"
   ]
  },
  {
   "cell_type": "markdown",
   "metadata": {},
   "source": [
    "### Example transformations: filter, transform, aggregations"
   ]
  },
  {
   "cell_type": "code",
   "execution_count": null,
   "metadata": {},
   "outputs": [],
   "source": [
    "from ibis import _\n",
    "\n",
    "t.filter(_.payAmount > 10000)"
   ]
  },
  {
   "cell_type": "code",
   "execution_count": null,
   "metadata": {},
   "outputs": [],
   "source": [
    "t.filter(_.payAmount > 10000).execute()"
   ]
  },
  {
   "cell_type": "markdown",
   "metadata": {},
   "source": [
    "### Transformation chaining"
   ]
  },
  {
   "cell_type": "code",
   "execution_count": null,
   "metadata": {},
   "outputs": [],
   "source": [
    "provinces = (\n",
    "    \"Beijing\",\n",
    "    \"Shanghai\",\n",
    "    \"Hangzhou\",\n",
    "    \"Shenzhen\",\n",
    "    \"Jiangxi\",\n",
    "    \"Chongqing\",\n",
    "    \"Xizang\",\n",
    ")\n",
    "province_id_to_name_df = pd.DataFrame(\n",
    "    enumerate(provinces), columns=[\"provinceId\", \"province\"]\n",
    ")\n",
    "province_id_to_name_df"
   ]
  },
  {
   "cell_type": "code",
   "execution_count": null,
   "metadata": {},
   "outputs": [],
   "source": [
    "join_filter = t.join(province_id_to_name_df, [\"provinceId\"]).filter(\n",
    "    _.payAmount > 10000\n",
    ")\n",
    "join_filter.execute()"
   ]
  },
  {
   "cell_type": "code",
   "execution_count": null,
   "metadata": {},
   "outputs": [],
   "source": [
    "join_agg = t.join(province_id_to_name_df, [\"provinceId\"]).filter(\n",
    "    _.payAmount > 10000\n",
    ").group_by([\"payPlatform\", \"provinceId\"]).aggregate(\n",
    "    totalPayAmount=_.payAmount.sum()\n",
    ").order_by(\n",
    "    _.totalPayAmount.desc()\n",
    ")"
   ]
  },
  {
   "cell_type": "code",
   "execution_count": null,
   "metadata": {},
   "outputs": [],
   "source": [
    "join_agg.visualize()"
   ]
  },
  {
   "cell_type": "code",
   "execution_count": null,
   "metadata": {},
   "outputs": [],
   "source": [
    "print(join_agg.compile())"
   ]
  },
  {
   "cell_type": "code",
   "execution_count": null,
   "metadata": {},
   "outputs": [],
   "source": [
    "join_agg.execute()"
   ]
  },
  {
   "cell_type": "markdown",
   "metadata": {},
   "source": [
    "### Intersperse SQL with Ibis methods"
   ]
  },
  {
   "cell_type": "code",
   "execution_count": null,
   "metadata": {},
   "outputs": [],
   "source": [
    "t.sql(\"SELECT * FROM payments WHERE payAmount > 10000\").join(province_id_to_name_df, [\"provinceId\"]).execute()"
   ]
  },
  {
   "cell_type": "markdown",
   "metadata": {},
   "source": [
    "### Window aggregation"
   ]
  },
  {
   "cell_type": "code",
   "execution_count": null,
   "metadata": {},
   "outputs": [],
   "source": [
    "window_agg = t[\n",
    "    \"provinceId\",\n",
    "    _.payAmount.sum()\n",
    "    .over(range=(-ibis.interval(seconds=10), 0), order_by=_.createTime)\n",
    "    .name(\"pay_amount\"),\n",
    "]\n",
    "window_agg"
   ]
  },
  {
   "cell_type": "code",
   "execution_count": null,
   "metadata": {},
   "outputs": [],
   "source": [
    "window_agg.execute()"
   ]
  },
  {
   "cell_type": "markdown",
   "metadata": {},
   "source": [
    "## Execute on Spark"
   ]
  },
  {
   "cell_type": "code",
   "execution_count": null,
   "metadata": {},
   "outputs": [],
   "source": [
    "from pyspark.sql import SparkSession\n",
    "\n",
    "session = SparkSession.builder \\\n",
    "    .config(\"spark.jars.packages\", \"org.apache.spark:spark-sql-kafka-0-10_2.12:3.5.1\")\\\n",
    "    .config(\"spark.sql.streaming.schemaInference\", True)\\\n",
    "    .config(\"spark.ui.port\",\"4050\")\\\n",
    "    .getOrCreate()"
   ]
  },
  {
   "cell_type": "code",
   "execution_count": null,
   "metadata": {},
   "outputs": [],
   "source": [
    "schema = ibis.schema(\n",
    "    {\n",
    "        \"createTime\": \"timestamp(3)\",\n",
    "        \"orderId\": \"int64\",\n",
    "        \"payAmount\": \"float64\",\n",
    "        \"payPlatform\": \"int32\",\n",
    "        \"provinceId\": \"int32\",\n",
    "    }\n",
    ")\n",
    "\n",
    "con = ibis.pyspark.connect(session, mode=\"streaming\")"
   ]
  },
  {
   "cell_type": "markdown",
   "metadata": {},
   "source": [
    "### Connect to a streaming source"
   ]
  },
  {
   "cell_type": "code",
   "execution_count": null,
   "metadata": {},
   "outputs": [],
   "source": [
    "con.read_kafka(\n",
    "    \"payments\", \n",
    "    watermark=ibis.watermark(time_col=\"createTime\", allowed_delay=ibis.interval(seconds=10)), \n",
    "    schema=schema,\n",
    "    auto_parse=True,\n",
    "    options={\"kafka.bootstrap.servers\": \"localhost:9092\", \"subscribe\": \"payment_msg\", \"startingOffsets\": \"earliest\"}\n",
    ")"
   ]
  },
  {
   "cell_type": "code",
   "execution_count": null,
   "metadata": {},
   "outputs": [],
   "source": [
    "t = con.table(\"payments\")\n",
    "join_filter = t.join(province_id_to_name_df, [\"provinceId\"]).filter(\n",
    "    _.payAmount > 10000\n",
    ")"
   ]
  },
  {
   "cell_type": "markdown",
   "metadata": {},
   "source": [
    "### Write results to sink"
   ]
  },
  {
   "cell_type": "code",
   "execution_count": null,
   "metadata": {},
   "outputs": [],
   "source": [
    "path = \"output\"\n",
    "con.to_csv_dir(\n",
    "    join_filter,\n",
    "    path=path,\n",
    "    options={\"checkpointLocation\": \"checkpoint\", \"header\": True},\n",
    ")"
   ]
  },
  {
   "cell_type": "code",
   "execution_count": null,
   "metadata": {},
   "outputs": [],
   "source": [
    "from pathlib import Path\n",
    "\n",
    "path = Path(\"output\")\n",
    "output = pd.concat([pd.read_csv(f) for f in path.glob(\"*.csv\")])\n",
    "output"
   ]
  },
  {
   "cell_type": "code",
   "execution_count": null,
   "metadata": {},
   "outputs": [],
   "source": [
    "con.to_kafka(\n",
    "    join_filter, \n",
    "    auto_format=True, \n",
    "    options={\"checkpointLocation\": \"checkpoint\", \"kafka.bootstrap.servers\": \"localhost:9092\", \"topic\": \"sink\"},\n",
    ")"
   ]
  }
 ],
 "metadata": {
  "language_info": {
   "name": "python"
  }
 },
 "nbformat": 4,
 "nbformat_minor": 2
}
